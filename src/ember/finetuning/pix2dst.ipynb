{
 "cells": [
  {
   "cell_type": "markdown",
   "metadata": {},
   "source": [
    "# pix2dst"
   ]
  },
  {
   "cell_type": "markdown",
   "metadata": {},
   "source": [
    "### Sync"
   ]
  },
  {
   "cell_type": "code",
   "execution_count": null,
   "metadata": {},
   "outputs": [],
   "source": [
    "!rye sync"
   ]
  },
  {
   "cell_type": "markdown",
   "metadata": {},
   "source": [
    "### Imports"
   ]
  },
  {
   "cell_type": "code",
   "execution_count": null,
   "metadata": {},
   "outputs": [],
   "source": [
    "import os\n",
    "import pyembroidery\n",
    "import pandas as pd\n",
    "from datasets import load_dataset, Dataset, Features\n",
    "import datasets\n",
    "from PIL import Image\n",
    "from transformers import (\n",
    "  LlavaForConditionalGeneration,\n",
    "  AutoProcessor,\n",
    ")"
   ]
  },
  {
   "cell_type": "markdown",
   "metadata": {},
   "source": [
    "### Load datasets"
   ]
  },
  {
   "cell_type": "code",
   "execution_count": null,
   "metadata": {},
   "outputs": [],
   "source": [
    "def load_image(image_path):\n",
    "  return Image.open(image_path)\n",
    "\n",
    "def load_embroidery(embroidery_path):\n",
    "  return repr(pyembroidery.read_dst(embroidery_path))\n",
    "\n",
    "def load_dataset(data_dir):\n",
    "  dataset = []\n",
    "  for image_file in os.listdir(f\"{data_dir}/preview\"):\n",
    "    image_file = f\"{data_dir}/preview/{image_file}\"\n",
    "    embroidery_file = image_file.replace(\".png\", \".dst\").replace(\"/preview/\", \"/embroidery/\")\n",
    "    feature = datasets.Image(decode=False)\n",
    "    dataset.append({\n",
    "        \"image\": feature.encode_example(load_image(image_file)),\n",
    "        \"embroidery\": load_embroidery(embroidery_file)\n",
    "    })\n",
    "  return dataset\n",
    "\n",
    "# Configure features (type and shape)\n",
    "features = Features({\n",
    "  \"embroidery\": datasets.Value(\"string\"),\n",
    "  \"image\": datasets.Image(),\n",
    "})\n",
    "\n",
    "# Create dataset\n",
    "dataset_path = os.path.abspath(\"\")\n",
    "for _ in range(3):\n",
    "    dataset_path = os.path.dirname(dataset_path)\n",
    "dataset_path = os.path.join(dataset_path.replace(\"\\\\\", \"/\") + \"/data/datasets/dst\")\n",
    "dataset = Dataset.from_pandas(pd.DataFrame(load_dataset(dataset_path)), features=features)\n",
    "print(dataset)"
   ]
  },
  {
   "cell_type": "markdown",
   "metadata": {},
   "source": [
    "### Load Model"
   ]
  },
  {
   "cell_type": "code",
   "execution_count": null,
   "metadata": {},
   "outputs": [],
   "source": [
    "# Load model\n",
    "checkpoint = \"Intel/llava-gemma-2b\"\n",
    "model = LlavaForConditionalGeneration.from_pretrained(checkpoint)\n",
    "processor = AutoProcessor.from_pretrained(checkpoint)\n",
    "\n",
    "# Prepare inputs\n",
    "# Use gemma chat template\n",
    "prompt = processor.tokenizer.apply_chat_template(\n",
    "    [{'role': 'user', 'content': \"<image>\\nConvert to .dst file\"}],\n",
    "    tokenize=False,\n",
    "    add_generation_prompt=True\n",
    ")\n",
    "image = dataset[0][\"image\"]\n",
    "inputs = processor(text=prompt, images=image, return_tensors=\"pt\")\n",
    "\n",
    "# Generate\n",
    "generate_ids = model.generate(**inputs, max_length=30)\n",
    "output = processor.batch_decode(generate_ids, skip_special_tokens=True, clean_up_tokenization_spaces=False)[0]\n",
    "print(output)"
   ]
  },
  {
   "cell_type": "markdown",
   "metadata": {},
   "source": [
    "### TODO: training"
   ]
  }
 ],
 "metadata": {
  "kernelspec": {
   "display_name": "Python 3",
   "language": "python",
   "name": "python3"
  },
  "language_info": {
   "codemirror_mode": {
    "name": "ipython",
    "version": 3
   },
   "file_extension": ".py",
   "mimetype": "text/x-python",
   "name": "python",
   "nbconvert_exporter": "python",
   "pygments_lexer": "ipython3",
   "version": "3.12.3"
  }
 },
 "nbformat": 4,
 "nbformat_minor": 2
}
